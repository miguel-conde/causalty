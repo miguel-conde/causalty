{
 "cells": [
  {
   "cell_type": "code",
   "execution_count": 1,
   "metadata": {},
   "outputs": [
    {
     "name": "stderr",
     "output_type": "stream",
     "text": [
      "2024-03-04 20:43:11,792 - c:\\Users\\migue\\Documents\\PROYECTOS DATA SCIENCE\\causal_discovery\\.venv\\lib\\site-packages\\castle\\backend\\__init__.py[line:36] - INFO: You can use `os.environ['CASTLE_BACKEND'] = backend` to set the backend(`pytorch` or `mindspore`).\n",
      "2024-03-04 20:43:22,656 - c:\\Users\\migue\\Documents\\PROYECTOS DATA SCIENCE\\causal_discovery\\.venv\\lib\\site-packages\\castle\\algorithms\\__init__.py[line:36] - INFO: You are using ``pytorch`` as the backend.\n"
     ]
    }
   ],
   "source": [
    "from castle.common import GraphDAG\n",
    "from castle.metrics import MetricsDAG\n",
    "from castle.datasets import IIDSimulation, DAG\n",
    "from castle.algorithms import PC"
   ]
  },
  {
   "cell_type": "code",
   "execution_count": 2,
   "metadata": {},
   "outputs": [
    {
     "name": "stderr",
     "output_type": "stream",
     "text": [
      "2024-03-04 20:43:22,694 - c:\\Users\\migue\\Documents\\PROYECTOS DATA SCIENCE\\causal_discovery\\.venv\\lib\\site-packages\\castle\\datasets\\simulator.py[line:270] - INFO: Finished synthetic dataset\n"
     ]
    },
    {
     "data": {
      "image/png": "[encoded data removed]",
      "text/plain": [
       "<Figure size 800x300 with 4 Axes>"
      ]
     },
     "metadata": {},
     "output_type": "display_data"
    },
    {
     "data": {
      "text/plain": [
       "<castle.common.plot_dag.GraphDAG at 0x29371b60340>"
      ]
     },
     "execution_count": 2,
     "metadata": {},
     "output_type": "execute_result"
    }
   ],
   "source": [
    "# data simulation, simulate true causal dag and train_data.\n",
    "weighted_random_dag = DAG.erdos_renyi(n_nodes=10, n_edges=10, \n",
    "                                      weight_range=(0.5, 2.0), seed=1)\n",
    "dataset = IIDSimulation(W=weighted_random_dag, n=2000, method='linear', \n",
    "                        sem_type='gauss')\n",
    "true_causal_matrix, X = dataset.B, dataset.X\n",
    "\n",
    "# structure learning\n",
    "pc = PC()\n",
    "pc.learn(X)\n",
    "\n",
    "# plot predict_dag and true_dag\n",
    "GraphDAG(pc.causal_matrix, true_causal_matrix, 'result')"
   ]
  },
  {
   "cell_type": "code",
   "execution_count": 3,
   "metadata": {},
   "outputs": [
    {
     "name": "stdout",
     "output_type": "stream",
     "text": [
      "{'fdr': 0.1111, 'tpr': 0.8, 'fpr': 0.0286, 'shd': 2, 'nnz': 9, 'precision': 0.7273, 'recall': 0.8, 'F1': 0.7619, 'gscore': 0.5}\n"
     ]
    },
    {
     "name": "stderr",
     "output_type": "stream",
     "text": [
      "c:\\Users\\migue\\Documents\\PROYECTOS DATA SCIENCE\\causal_discovery\\.venv\\lib\\site-packages\\castle\\metrics\\evaluation.py:193: FutureWarning: DataFrame.applymap has been deprecated. Use DataFrame.map instead.\n",
      "  num_tp =  (W_p + W_true).applymap(lambda elem:1 if elem==2 else 0).sum(axis=1).sum()\n",
      "c:\\Users\\migue\\Documents\\PROYECTOS DATA SCIENCE\\causal_discovery\\.venv\\lib\\site-packages\\castle\\metrics\\evaluation.py:195: FutureWarning: DataFrame.applymap has been deprecated. Use DataFrame.map instead.\n",
      "  num_fn_r = (W_p - W_true).applymap(lambda elem:1 if elem==1 else 0).sum(axis=1).sum()\n",
      "c:\\Users\\migue\\Documents\\PROYECTOS DATA SCIENCE\\causal_discovery\\.venv\\lib\\site-packages\\castle\\metrics\\evaluation.py:221: FutureWarning: DataFrame.applymap has been deprecated. Use DataFrame.map instead.\n",
      "  TP = (W_p + W_true).applymap(lambda elem:1 if elem==2 else 0).sum(axis=1).sum()\n"
     ]
    }
   ],
   "source": [
    "# calculate metrics\n",
    "mt = MetricsDAG(pc.causal_matrix, true_causal_matrix)\n",
    "print(mt.metrics)"
   ]
  }
 ],
 "metadata": {
  "kernelspec": {
   "display_name": ".venv",
   "language": "python",
   "name": "python3"
  },
  "language_info": {
   "codemirror_mode": {
    "name": "ipython",
    "version": 3
   },
   "file_extension": ".py",
   "mimetype": "text/x-python",
   "name": "python",
   "nbconvert_exporter": "python",
   "pygments_lexer": "ipython3",
   "version": "3.10.11"
  }
 },
 "nbformat": 4,
 "nbformat_minor": 2
}
