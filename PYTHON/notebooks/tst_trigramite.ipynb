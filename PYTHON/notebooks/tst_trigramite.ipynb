{
 "cells": [
  {
   "cell_type": "code",
   "execution_count": 2,
   "metadata": {},
   "outputs": [],
   "source": [
    "import numpy as np\n",
    "import tigramite\n",
    "from tigramite import data_processing as pp\n",
    "from tigramite.pcmci import PCMCI\n",
    "from tigramite.independence_tests.parcorr import ParCorr\n",
    "\n",
    "# magic command for module reload\n",
    "%load_ext autoreload\n",
    "%autoreload 2"
   ]
  },
  {
   "cell_type": "code",
   "execution_count": 14,
   "metadata": {},
   "outputs": [
    {
     "name": "stdout",
     "output_type": "stream",
     "text": [
      "Significant links at p < 0.05:\n",
      "(var2, var1, lag 2)\n",
      "(var2, var3, lag 0)\n"
     ]
    }
   ],
   "source": [
    "\n",
    "# Example time series data\n",
    "np.random.seed(42)\n",
    "time_series = np.random.randn(1000, 3)  # Simulated data: 1000 time points, 3 variables\n",
    "\n",
    "# Initialize the data object for Tigramite\n",
    "dataframe = pp.DataFrame(time_series, var_names=['var1', 'var2', 'var3'])\n",
    "\n",
    "# Initialize PCMCI with tau_max set to 8\n",
    "pcmci = PCMCI(\n",
    "    dataframe=dataframe, \n",
    "    cond_ind_test=ParCorr(significance='analytic')\n",
    ")\n",
    "\n",
    "# Run PCMCI with tau_max=8\n",
    "results = pcmci.run_pcmci(tau_max=8, pc_alpha=None)\n",
    "\n",
    "# Initialize an empty list to store significant links\n",
    "significant_links = []\n",
    "\n",
    "# Print significant links\n",
    "print(\"Significant links at p < 0.05:\")\n",
    "for i in range(results['p_matrix'].shape[0]):\n",
    "    for j in range(results['p_matrix'].shape[1]):\n",
    "        for tau in range(results['p_matrix'].shape[2]):\n",
    "            if results['p_matrix'][i, j, tau] < 0.05:\n",
    "                print(f\"({dataframe.var_names[i]}, {dataframe.var_names[j]}, lag {tau-1})\")\n",
    "                # Store the significant link with variable names and lag\n",
    "                significant_links.append((dataframe.var_names[j], dataframe.var_names[i], tau-1))\n",
    "\n"
   ]
  },
  {
   "cell_type": "code",
   "execution_count": 16,
   "metadata": {},
   "outputs": [
    {
     "data": {
      "image/png": "[encoded data removed]",
      "text/plain": [
       "<Figure size 640x480 with 1 Axes>"
      ]
     },
     "metadata": {},
     "output_type": "display_data"
    }
   ],
   "source": [
    "import networkx as nx\n",
    "import matplotlib.pyplot as plt\n",
    "\n",
    "# Create a directed graph\n",
    "G = nx.DiGraph()\n",
    "\n",
    "# Add nodes for each variable\n",
    "for var_name in dataframe.var_names:\n",
    "    G.add_node(var_name)\n",
    "\n",
    "# Add edges for each significant link\n",
    "for source, target, lag in significant_links:\n",
    "    # Add an edge with the lag as a label\n",
    "    G.add_edge(source, target, lag=lag)\n",
    "\n",
    "# Draw the graph\n",
    "pos = nx.spring_layout(G)  # Generate positions of nodes using spring layout\n",
    "nx.draw(G, pos, with_labels=True, node_color='lightblue', edge_color='gray', node_size=500, font_size=10)\n",
    "\n",
    "# Add edge labels to show lags\n",
    "edge_labels = dict(((u, v), d['lag']) for u, v, d in G.edges(data=True))\n",
    "nx.draw_networkx_edge_labels(G, pos, edge_labels=edge_labels, label_pos=0.3, font_color='red')\n",
    "\n",
    "plt.title(\"Causal DAG from Tigramite\")\n",
    "plt.show()\n",
    "\n",
    "\n"
   ]
  },
  {
   "cell_type": "code",
   "execution_count": 20,
   "metadata": {},
   "outputs": [
    {
     "name": "stdout",
     "output_type": "stream",
     "text": [
      "Lag order: 2\n",
      "Coefficients:\n",
      "[[ 0.05096038 -0.00608684  0.04749994]\n",
      " [-0.01130433  0.00780571  0.0116465 ]\n",
      " [-0.01987566  0.02031255 -0.09422655]\n",
      " [-0.01670188  0.01182117  0.03731082]\n",
      " [ 0.05027825 -0.02787882 -0.0344348 ]\n",
      " [ 0.02123557 -0.01314036  0.04645479]\n",
      " [ 0.01442722  0.02411967 -0.03321129]]\n"
     ]
    },
    {
     "ename": "ValueError",
     "evalue": "'var1' is not in list",
     "output_type": "error",
     "traceback": [
      "\u001b[1;31m---------------------------------------------------------------------------\u001b[0m",
      "\u001b[1;31mValueError\u001b[0m                                Traceback (most recent call last)",
      "Cell \u001b[1;32mIn[20], line 15\u001b[0m\n\u001b[0;32m     12\u001b[0m \u001b[38;5;28mprint\u001b[39m(\u001b[38;5;124mf\u001b[39m\u001b[38;5;124m\"\u001b[39m\u001b[38;5;124mCoefficients:\u001b[39m\u001b[38;5;130;01m\\n\u001b[39;00m\u001b[38;5;132;01m{\u001b[39;00mcoefficients\u001b[38;5;132;01m}\u001b[39;00m\u001b[38;5;124m\"\u001b[39m)\n\u001b[0;32m     14\u001b[0m \u001b[38;5;66;03m# Get the Granger causality matrix\u001b[39;00m\n\u001b[1;32m---> 15\u001b[0m granger_matrix \u001b[38;5;241m=\u001b[39m \u001b[43mresults\u001b[49m\u001b[38;5;241;43m.\u001b[39;49m\u001b[43mtest_causality\u001b[49m\u001b[43m(\u001b[49m\u001b[38;5;124;43m'\u001b[39;49m\u001b[38;5;124;43mvar1\u001b[39;49m\u001b[38;5;124;43m'\u001b[39;49m\u001b[43m,\u001b[49m\u001b[43m \u001b[49m\u001b[38;5;124;43m'\u001b[39;49m\u001b[38;5;124;43mvar2\u001b[39;49m\u001b[38;5;124;43m'\u001b[39;49m\u001b[43m,\u001b[49m\u001b[43m \u001b[49m\u001b[43mkind\u001b[49m\u001b[38;5;241;43m=\u001b[39;49m\u001b[38;5;124;43m'\u001b[39;49m\u001b[38;5;124;43mf\u001b[39;49m\u001b[38;5;124;43m'\u001b[39;49m\u001b[43m)\u001b[49m\u001b[38;5;241m.\u001b[39msummary()\n\u001b[0;32m     16\u001b[0m \u001b[38;5;28mprint\u001b[39m(\u001b[38;5;124mf\u001b[39m\u001b[38;5;124m\"\u001b[39m\u001b[38;5;124mGranger causality matrix:\u001b[39m\u001b[38;5;130;01m\\n\u001b[39;00m\u001b[38;5;132;01m{\u001b[39;00mgranger_matrix\u001b[38;5;132;01m}\u001b[39;00m\u001b[38;5;124m\"\u001b[39m)\n",
      "File \u001b[1;32mc:\\Users\\migue\\Documents\\PROYECTOS DATA SCIENCE\\causal_discovery\\.venv\\lib\\site-packages\\statsmodels\\tsa\\vector_ar\\var_model.py:1966\u001b[0m, in \u001b[0;36mVARResults.test_causality\u001b[1;34m(self, caused, causing, kind, signif)\u001b[0m\n\u001b[0;32m   1961\u001b[0m     \u001b[38;5;28;01mraise\u001b[39;00m \u001b[38;5;167;01mTypeError\u001b[39;00m(\n\u001b[0;32m   1962\u001b[0m         \u001b[38;5;124m\"\u001b[39m\u001b[38;5;124mcaused has to be of type string or int (or a \u001b[39m\u001b[38;5;124m\"\u001b[39m\n\u001b[0;32m   1963\u001b[0m         \u001b[38;5;124m\"\u001b[39m\u001b[38;5;124msequence of these types).\u001b[39m\u001b[38;5;124m\"\u001b[39m\n\u001b[0;32m   1964\u001b[0m     )\n\u001b[0;32m   1965\u001b[0m caused \u001b[38;5;241m=\u001b[39m [\u001b[38;5;28mself\u001b[39m\u001b[38;5;241m.\u001b[39mnames[c] \u001b[38;5;28;01mif\u001b[39;00m \u001b[38;5;28mtype\u001b[39m(c) \u001b[38;5;129;01mis\u001b[39;00m \u001b[38;5;28mint\u001b[39m \u001b[38;5;28;01melse\u001b[39;00m c \u001b[38;5;28;01mfor\u001b[39;00m c \u001b[38;5;129;01min\u001b[39;00m caused]\n\u001b[1;32m-> 1966\u001b[0m caused_ind \u001b[38;5;241m=\u001b[39m [util\u001b[38;5;241m.\u001b[39mget_index(\u001b[38;5;28mself\u001b[39m\u001b[38;5;241m.\u001b[39mnames, c) \u001b[38;5;28;01mfor\u001b[39;00m c \u001b[38;5;129;01min\u001b[39;00m caused]\n\u001b[0;32m   1968\u001b[0m \u001b[38;5;28;01mif\u001b[39;00m causing \u001b[38;5;129;01mis\u001b[39;00m \u001b[38;5;129;01mnot\u001b[39;00m \u001b[38;5;28;01mNone\u001b[39;00m:\n\u001b[0;32m   1970\u001b[0m     \u001b[38;5;28;01mif\u001b[39;00m \u001b[38;5;28misinstance\u001b[39m(causing, allowed_types):\n",
      "File \u001b[1;32mc:\\Users\\migue\\Documents\\PROYECTOS DATA SCIENCE\\causal_discovery\\.venv\\lib\\site-packages\\statsmodels\\tsa\\vector_ar\\var_model.py:1966\u001b[0m, in \u001b[0;36m<listcomp>\u001b[1;34m(.0)\u001b[0m\n\u001b[0;32m   1961\u001b[0m     \u001b[38;5;28;01mraise\u001b[39;00m \u001b[38;5;167;01mTypeError\u001b[39;00m(\n\u001b[0;32m   1962\u001b[0m         \u001b[38;5;124m\"\u001b[39m\u001b[38;5;124mcaused has to be of type string or int (or a \u001b[39m\u001b[38;5;124m\"\u001b[39m\n\u001b[0;32m   1963\u001b[0m         \u001b[38;5;124m\"\u001b[39m\u001b[38;5;124msequence of these types).\u001b[39m\u001b[38;5;124m\"\u001b[39m\n\u001b[0;32m   1964\u001b[0m     )\n\u001b[0;32m   1965\u001b[0m caused \u001b[38;5;241m=\u001b[39m [\u001b[38;5;28mself\u001b[39m\u001b[38;5;241m.\u001b[39mnames[c] \u001b[38;5;28;01mif\u001b[39;00m \u001b[38;5;28mtype\u001b[39m(c) \u001b[38;5;129;01mis\u001b[39;00m \u001b[38;5;28mint\u001b[39m \u001b[38;5;28;01melse\u001b[39;00m c \u001b[38;5;28;01mfor\u001b[39;00m c \u001b[38;5;129;01min\u001b[39;00m caused]\n\u001b[1;32m-> 1966\u001b[0m caused_ind \u001b[38;5;241m=\u001b[39m [\u001b[43mutil\u001b[49m\u001b[38;5;241;43m.\u001b[39;49m\u001b[43mget_index\u001b[49m\u001b[43m(\u001b[49m\u001b[38;5;28;43mself\u001b[39;49m\u001b[38;5;241;43m.\u001b[39;49m\u001b[43mnames\u001b[49m\u001b[43m,\u001b[49m\u001b[43m \u001b[49m\u001b[43mc\u001b[49m\u001b[43m)\u001b[49m \u001b[38;5;28;01mfor\u001b[39;00m c \u001b[38;5;129;01min\u001b[39;00m caused]\n\u001b[0;32m   1968\u001b[0m \u001b[38;5;28;01mif\u001b[39;00m causing \u001b[38;5;129;01mis\u001b[39;00m \u001b[38;5;129;01mnot\u001b[39;00m \u001b[38;5;28;01mNone\u001b[39;00m:\n\u001b[0;32m   1970\u001b[0m     \u001b[38;5;28;01mif\u001b[39;00m \u001b[38;5;28misinstance\u001b[39m(causing, allowed_types):\n",
      "File \u001b[1;32mc:\\Users\\migue\\Documents\\PROYECTOS DATA SCIENCE\\causal_discovery\\.venv\\lib\\site-packages\\statsmodels\\tsa\\vector_ar\\util.py:280\u001b[0m, in \u001b[0;36mget_index\u001b[1;34m(lst, name)\u001b[0m\n\u001b[0;32m    278\u001b[0m \u001b[38;5;28;01mdef\u001b[39;00m \u001b[38;5;21mget_index\u001b[39m(lst, name):\n\u001b[0;32m    279\u001b[0m     \u001b[38;5;28;01mtry\u001b[39;00m:\n\u001b[1;32m--> 280\u001b[0m         result \u001b[38;5;241m=\u001b[39m \u001b[43mlst\u001b[49m\u001b[38;5;241;43m.\u001b[39;49m\u001b[43mindex\u001b[49m\u001b[43m(\u001b[49m\u001b[43mname\u001b[49m\u001b[43m)\u001b[49m\n\u001b[0;32m    281\u001b[0m     \u001b[38;5;28;01mexcept\u001b[39;00m \u001b[38;5;167;01mException\u001b[39;00m:\n\u001b[0;32m    282\u001b[0m         \u001b[38;5;28;01mif\u001b[39;00m \u001b[38;5;129;01mnot\u001b[39;00m \u001b[38;5;28misinstance\u001b[39m(name, \u001b[38;5;28mint\u001b[39m):\n",
      "\u001b[1;31mValueError\u001b[0m: 'var1' is not in list"
     ]
    }
   ],
   "source": [
    "# fit a VAR model\n",
    "from statsmodels.tsa.api import VAR\n",
    "model = VAR(time_series)\n",
    "results = model.fit(2)\n",
    "\n",
    "# Get the lag order\n",
    "lag_order = results.k_ar\n",
    "print(f\"Lag order: {lag_order}\")\n",
    "\n",
    "# Get the coefficients\n",
    "coefficients = results.params\n",
    "print(f\"Coefficients:\\n{coefficients}\")\n",
    "\n",
    "# Get the Granger causality matrix\n",
    "granger_matrix = results.test_causality('var1', 'var2', kind='f').summary()\n",
    "print(f\"Granger causality matrix:\\n{granger_matrix}\")"
   ]
  }
 ],
 "metadata": {
  "kernelspec": {
   "display_name": ".venv",
   "language": "python",
   "name": "python3"
  },
  "language_info": {
   "codemirror_mode": {
    "name": "ipython",
    "version": 3
   },
   "file_extension": ".py",
   "mimetype": "text/x-python",
   "name": "python",
   "nbconvert_exporter": "python",
   "pygments_lexer": "ipython3",
   "version": "3.10.11"
  }
 },
 "nbformat": 4,
 "nbformat_minor": 2
}
